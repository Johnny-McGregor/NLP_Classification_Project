{
 "cells": [
  {
   "cell_type": "markdown",
   "metadata": {},
   "source": [
    "# Taking The Two Best Models and Creating Visualizations"
   ]
  },
  {
   "cell_type": "markdown",
   "metadata": {},
   "source": [
    "Importing necessary libraries"
   ]
  },
  {
   "cell_type": "code",
   "execution_count": 2,
   "metadata": {},
   "outputs": [],
   "source": [
    "import matplotlib.pyplot as plt\n",
    "import pandas as pd\n",
    "import numpy as np\n",
    "from sklearn.feature_extraction.text import TfidfVectorizer, CountVectorizer\n",
    "from nltk.corpus import stopwords\n",
    "import regex as re\n",
    "from sklearn.tree import DecisionTreeClassifier\n",
    "from sklearn.ensemble import RandomForestClassifier\n",
    "from sklearn.linear_model import LogisticRegression\n",
    "\n",
    "%matplotlib inline\n",
    "\n",
    "import warnings\n",
    "warnings.simplefilter(action='ignore', category=FutureWarning)"
   ]
  },
  {
   "cell_type": "markdown",
   "metadata": {},
   "source": [
    "# Reading in the science and comedy csv files"
   ]
  },
  {
   "cell_type": "code",
   "execution_count": 5,
   "metadata": {},
   "outputs": [],
   "source": [
    "science = pd.read_csv('./data/sciencedata.csv')\n",
    "comedy = pd.read_csv('./data/comedydata.csv')"
   ]
  },
  {
   "cell_type": "markdown",
   "metadata": {},
   "source": [
    "# Merging the comedy data below the science data into a single dataframe"
   ]
  },
  {
   "cell_type": "code",
   "execution_count": 6,
   "metadata": {},
   "outputs": [
    {
     "data": {
      "text/plain": [
       "(2868, 2)"
      ]
     },
     "execution_count": 6,
     "metadata": {},
     "output_type": "execute_result"
    }
   ],
   "source": [
    "data = pd.concat([science, comedy], axis=0, ignore_index=True)\n",
    "\n",
    "data.shape #make sure the dataframe has all the rows we expect\n"
   ]
  },
  {
   "cell_type": "markdown",
   "metadata": {},
   "source": [
    "# Create a function to clean all the posts"
   ]
  },
  {
   "cell_type": "code",
   "execution_count": 16,
   "metadata": {},
   "outputs": [],
   "source": [
    "from bs4 import BeautifulSoup\n",
    "\n",
    "\n",
    "def post_to_words(post):\n",
    "    #getting rid of http and web markings\n",
    "    post_text = BeautifulSoup(post).get_text()                  \n",
    "    \n",
    "    #getting rid of all punctuation\n",
    "    letters_only = re.sub(\"[^a-zA-Z]\", \" \", post_text)          \n",
    "    \n",
    "    #lowercasing all the letters/words\n",
    "    words = letters_only.lower().split()                        \n",
    "    \n",
    "    # getting rid of very frequent words\n",
    "    stops = set(stopwords.words('english'))                     \n",
    "    \n",
    "    #putting them back into the rows as full sentences\n",
    "    meaningful_words = [w for w in words if not w in stops]\n",
    "    return(\" \".join(meaningful_words))                          "
   ]
  },
  {
   "cell_type": "markdown",
   "metadata": {},
   "source": [
    "# Making sure the function worked"
   ]
  },
  {
   "cell_type": "code",
   "execution_count": 17,
   "metadata": {},
   "outputs": [
    {
     "data": {
      "text/html": [
       "<div>\n",
       "<style scoped>\n",
       "    .dataframe tbody tr th:only-of-type {\n",
       "        vertical-align: middle;\n",
       "    }\n",
       "\n",
       "    .dataframe tbody tr th {\n",
       "        vertical-align: top;\n",
       "    }\n",
       "\n",
       "    .dataframe thead th {\n",
       "        text-align: right;\n",
       "    }\n",
       "</style>\n",
       "<table border=\"1\" class=\"dataframe\">\n",
       "  <thead>\n",
       "    <tr style=\"text-align: right;\">\n",
       "      <th></th>\n",
       "      <th>posts</th>\n",
       "      <th>science</th>\n",
       "    </tr>\n",
       "  </thead>\n",
       "  <tbody>\n",
       "    <tr>\n",
       "      <th>0</th>\n",
       "      <td>fentanyl surpasses heroin drug often involved ...</td>\n",
       "      <td>1</td>\n",
       "    </tr>\n",
       "    <tr>\n",
       "      <th>1</th>\n",
       "      <td>seattle washington delaying start time two hig...</td>\n",
       "      <td>1</td>\n",
       "    </tr>\n",
       "    <tr>\n",
       "      <th>2</th>\n",
       "      <td>college textbooks aimed introductory biology c...</td>\n",
       "      <td>1</td>\n",
       "    </tr>\n",
       "    <tr>\n",
       "      <th>3</th>\n",
       "      <td>scary warming poles showing weird times places...</td>\n",
       "      <td>1</td>\n",
       "    </tr>\n",
       "    <tr>\n",
       "      <th>4</th>\n",
       "      <td>invasive species tick first kind emerge us yea...</td>\n",
       "      <td>1</td>\n",
       "    </tr>\n",
       "  </tbody>\n",
       "</table>\n",
       "</div>"
      ],
      "text/plain": [
       "                                               posts  science\n",
       "0  fentanyl surpasses heroin drug often involved ...        1\n",
       "1  seattle washington delaying start time two hig...        1\n",
       "2  college textbooks aimed introductory biology c...        1\n",
       "3  scary warming poles showing weird times places...        1\n",
       "4  invasive species tick first kind emerge us yea...        1"
      ]
     },
     "metadata": {},
     "output_type": "display_data"
    }
   ],
   "source": [
    "data.posts = data.posts.apply(post_to_words)\n",
    "display(data.head())"
   ]
  },
  {
   "cell_type": "code",
   "execution_count": 18,
   "metadata": {},
   "outputs": [],
   "source": [
    "data['posts'] = data.posts.apply(lambda x: x.replace('https', ''))  #removing https from everything because it has no\n",
    "                                                                    #predictive relevance"
   ]
  },
  {
   "cell_type": "markdown",
   "metadata": {},
   "source": [
    "# Vectorizing the whole data set\n",
    "- Extract the most common words from science (marked 1) and comedy (marked 0)"
   ]
  },
  {
   "cell_type": "code",
   "execution_count": 19,
   "metadata": {},
   "outputs": [],
   "source": [
    "vect = CountVectorizer(stop_words='english') # Examine again with stop_words=\"english\"\n",
    "posts = vect.fit_transform(data['posts'])\n",
    "text = pd.DataFrame(posts.toarray(), index=data.index, columns=vect.get_feature_names())"
   ]
  },
  {
   "cell_type": "code",
   "execution_count": 20,
   "metadata": {},
   "outputs": [],
   "source": [
    "df_ones = text[data['science'] == 1]\n",
    "df_zeros = text[data['science'] == 0]"
   ]
  },
  {
   "cell_type": "code",
   "execution_count": 21,
   "metadata": {},
   "outputs": [
    {
     "data": {
      "image/png": "[encoded data removed]",
      "text/plain": [
       "<Figure size 720x720 with 1 Axes>"
      ]
     },
     "metadata": {
      "needs_background": "light"
     },
     "output_type": "display_data"
    }
   ],
   "source": [
    "plt.figure(figsize=(10, 10))\n",
    "plt.title('Most Frequent Science Terms', fontsize = 20)\n",
    "plt.xticks(fontsize=15)\n",
    "plt.yticks(fontsize=15)\n",
    "df_ones.sum().sort_values(ascending=False)[:10].plot(kind='barh', color='blue');"
   ]
  },
  {
   "cell_type": "code",
   "execution_count": 22,
   "metadata": {},
   "outputs": [
    {
     "data": {
      "image/png": "[encoded data removed]",
      "text/plain": [
       "<Figure size 720x720 with 1 Axes>"
      ]
     },
     "metadata": {
      "needs_background": "light"
     },
     "output_type": "display_data"
    }
   ],
   "source": [
    "plt.figure(figsize=(10, 10))\n",
    "plt.title('Most Frequent Comedy Terms', fontsize=20)\n",
    "plt.yticks(fontsize=15)\n",
    "plt.xticks(fontsize=15)\n",
    "df_zeros.sum().sort_values(ascending=False)[:10].plot(kind='barh', color='blue');"
   ]
  },
  {
   "cell_type": "markdown",
   "metadata": {},
   "source": [
    "## Fit the best performing models from the previous notebook so that I can visualize the results"
   ]
  },
  {
   "cell_type": "code",
   "execution_count": 23,
   "metadata": {},
   "outputs": [],
   "source": [
    "X = data.posts\n",
    "y = data.science"
   ]
  },
  {
   "cell_type": "code",
   "execution_count": 24,
   "metadata": {},
   "outputs": [],
   "source": [
    "from sklearn.model_selection import train_test_split"
   ]
  },
  {
   "cell_type": "code",
   "execution_count": 25,
   "metadata": {},
   "outputs": [],
   "source": [
    "X_train, X_test, y_train, y_test = train_test_split(X, y, stratify=y,\n",
    "                                                   random_state=42)"
   ]
  },
  {
   "cell_type": "markdown",
   "metadata": {},
   "source": [
    "# First model: Logistic Regression"
   ]
  },
  {
   "cell_type": "code",
   "execution_count": 26,
   "metadata": {},
   "outputs": [],
   "source": [
    "#setting parameters from GridSearch step of preprocessing notebook\n",
    "\n",
    "vect_1 = CountVectorizer(max_df=.1, max_features=5000) \n",
    "log = LogisticRegression(C=3, random_state=42)         "
   ]
  },
  {
   "cell_type": "code",
   "execution_count": 27,
   "metadata": {},
   "outputs": [],
   "source": [
    "#putting vectorized features back into a dataframe\n",
    "X_train_vect_1 = pd.DataFrame(vect_1.fit_transform(X_train).todense(), \n",
    "                              columns=vect_1.get_feature_names())      \n",
    "\n",
    "X_test_vect_1 = pd.DataFrame(vect_1.transform(X_test).todense(),\n",
    "                             columns=vect_1.get_feature_names())"
   ]
  },
  {
   "cell_type": "code",
   "execution_count": 30,
   "metadata": {},
   "outputs": [],
   "source": [
    "#fit model and grab the predicted probabilities\n",
    "model_1 = log.fit(X_train_vect_1, y_train)                \n",
    "probs = model_1.predict_proba(X_test_vect_1)\n",
    "predictions_1 = model_1.predict(X_test_vect_1)"
   ]
  },
  {
   "cell_type": "code",
   "execution_count": 31,
   "metadata": {},
   "outputs": [],
   "source": [
    "preds_df = pd.DataFrame.from_dict({'y_test':y_test,\n",
    "                                   'predict_proba': probs[:, 1],\n",
    "                                   'predictions': predictions_1},\n",
    "                                    orient='columns')"
   ]
  },
  {
   "cell_type": "code",
   "execution_count": 32,
   "metadata": {},
   "outputs": [
    {
     "data": {
      "text/html": [
       "<div>\n",
       "<style scoped>\n",
       "    .dataframe tbody tr th:only-of-type {\n",
       "        vertical-align: middle;\n",
       "    }\n",
       "\n",
       "    .dataframe tbody tr th {\n",
       "        vertical-align: top;\n",
       "    }\n",
       "\n",
       "    .dataframe thead th {\n",
       "        text-align: right;\n",
       "    }\n",
       "</style>\n",
       "<table border=\"1\" class=\"dataframe\">\n",
       "  <thead>\n",
       "    <tr style=\"text-align: right;\">\n",
       "      <th></th>\n",
       "      <th>y_test</th>\n",
       "      <th>predict_proba</th>\n",
       "      <th>predictions</th>\n",
       "      <th>post</th>\n",
       "    </tr>\n",
       "  </thead>\n",
       "  <tbody>\n",
       "    <tr>\n",
       "      <th>1991</th>\n",
       "      <td>0</td>\n",
       "      <td>0.032613</td>\n",
       "      <td>0</td>\n",
       "      <td>pentecostal man accused blasphemy speaking ton...</td>\n",
       "    </tr>\n",
       "    <tr>\n",
       "      <th>2763</th>\n",
       "      <td>0</td>\n",
       "      <td>0.124174</td>\n",
       "      <td>0</td>\n",
       "      <td>pimped bicycle audio indian language</td>\n",
       "    </tr>\n",
       "    <tr>\n",
       "      <th>1361</th>\n",
       "      <td>0</td>\n",
       "      <td>0.066942</td>\n",
       "      <td>0</td>\n",
       "      <td>smile</td>\n",
       "    </tr>\n",
       "    <tr>\n",
       "      <th>2007</th>\n",
       "      <td>0</td>\n",
       "      <td>0.099593</td>\n",
       "      <td>0</td>\n",
       "      <td>hot rod</td>\n",
       "    </tr>\n",
       "    <tr>\n",
       "      <th>1337</th>\n",
       "      <td>1</td>\n",
       "      <td>0.980979</td>\n",
       "      <td>1</td>\n",
       "      <td>evidence update grain free beg diets associate...</td>\n",
       "    </tr>\n",
       "  </tbody>\n",
       "</table>\n",
       "</div>"
      ],
      "text/plain": [
       "      y_test  predict_proba  predictions  \\\n",
       "1991       0       0.032613            0   \n",
       "2763       0       0.124174            0   \n",
       "1361       0       0.066942            0   \n",
       "2007       0       0.099593            0   \n",
       "1337       1       0.980979            1   \n",
       "\n",
       "                                                   post  \n",
       "1991  pentecostal man accused blasphemy speaking ton...  \n",
       "2763               pimped bicycle audio indian language  \n",
       "1361                                              smile  \n",
       "2007                                            hot rod  \n",
       "1337  evidence update grain free beg diets associate...  "
      ]
     },
     "execution_count": 32,
     "metadata": {},
     "output_type": "execute_result"
    }
   ],
   "source": [
    "preds_df['post'] = X_test.loc[y_test.index]\n",
    "preds_df.head()"
   ]
  },
  {
   "cell_type": "code",
   "execution_count": 33,
   "metadata": {},
   "outputs": [],
   "source": [
    "pd.set_option('display.max_colwidth', -1)"
   ]
  },
  {
   "cell_type": "markdown",
   "metadata": {},
   "source": [
    "# Find and analyze the misclassified posts"
   ]
  },
  {
   "cell_type": "code",
   "execution_count": 34,
   "metadata": {},
   "outputs": [
    {
     "data": {
      "text/html": [
       "<div>\n",
       "<style scoped>\n",
       "    .dataframe tbody tr th:only-of-type {\n",
       "        vertical-align: middle;\n",
       "    }\n",
       "\n",
       "    .dataframe tbody tr th {\n",
       "        vertical-align: top;\n",
       "    }\n",
       "\n",
       "    .dataframe thead th {\n",
       "        text-align: right;\n",
       "    }\n",
       "</style>\n",
       "<table border=\"1\" class=\"dataframe\">\n",
       "  <thead>\n",
       "    <tr style=\"text-align: right;\">\n",
       "      <th></th>\n",
       "      <th>true_science_post</th>\n",
       "      <th>predict_proba</th>\n",
       "      <th>predictions</th>\n",
       "      <th>post</th>\n",
       "    </tr>\n",
       "  </thead>\n",
       "  <tbody>\n",
       "    <tr>\n",
       "      <th>1338</th>\n",
       "      <td>1</td>\n",
       "      <td>0.197532</td>\n",
       "      <td>0</td>\n",
       "      <td>repeatedly watching video touching filthy bedpan reduced people ocd symptoms</td>\n",
       "    </tr>\n",
       "    <tr>\n",
       "      <th>534</th>\n",
       "      <td>1</td>\n",
       "      <td>0.408786</td>\n",
       "      <td>0</td>\n",
       "      <td>freeze dried polio vaccine require refrigeration offered full protection polio virus tested mice</td>\n",
       "    </tr>\n",
       "    <tr>\n",
       "      <th>760</th>\n",
       "      <td>1</td>\n",
       "      <td>0.137316</td>\n",
       "      <td>0</td>\n",
       "      <td>dietary versatility early pleistocene hominins</td>\n",
       "    </tr>\n",
       "    <tr>\n",
       "      <th>1291</th>\n",
       "      <td>1</td>\n",
       "      <td>0.387267</td>\n",
       "      <td>0</td>\n",
       "      <td>university leeds news young star caught forming like planet</td>\n",
       "    </tr>\n",
       "    <tr>\n",
       "      <th>1143</th>\n",
       "      <td>1</td>\n",
       "      <td>0.408786</td>\n",
       "      <td>0</td>\n",
       "      <td>freeze dried polio vaccine require refrigeration offered full protection polio virus tested mice</td>\n",
       "    </tr>\n",
       "    <tr>\n",
       "      <th>1289</th>\n",
       "      <td>1</td>\n",
       "      <td>0.419122</td>\n",
       "      <td>0</td>\n",
       "      <td>pathogenic copy number variants affect gene expression contribute genomic burden cerebral palsy</td>\n",
       "    </tr>\n",
       "    <tr>\n",
       "      <th>1333</th>\n",
       "      <td>1</td>\n",
       "      <td>0.474157</td>\n",
       "      <td>0</td>\n",
       "      <td>tourists may making antarctica penguins sick</td>\n",
       "    </tr>\n",
       "    <tr>\n",
       "      <th>151</th>\n",
       "      <td>1</td>\n",
       "      <td>0.137316</td>\n",
       "      <td>0</td>\n",
       "      <td>dietary versatility early pleistocene hominins</td>\n",
       "    </tr>\n",
       "    <tr>\n",
       "      <th>2073</th>\n",
       "      <td>0</td>\n",
       "      <td>0.562806</td>\n",
       "      <td>1</td>\n",
       "      <td>cannot unsee snake space space odyssey</td>\n",
       "    </tr>\n",
       "    <tr>\n",
       "      <th>1311</th>\n",
       "      <td>1</td>\n",
       "      <td>0.297073</td>\n",
       "      <td>0</td>\n",
       "      <td>modern humans round heads</td>\n",
       "    </tr>\n",
       "    <tr>\n",
       "      <th>1281</th>\n",
       "      <td>1</td>\n",
       "      <td>0.110851</td>\n",
       "      <td>0</td>\n",
       "      <td>genetically modified pigs protected classical swine fever virus</td>\n",
       "    </tr>\n",
       "    <tr>\n",
       "      <th>1290</th>\n",
       "      <td>1</td>\n",
       "      <td>0.479111</td>\n",
       "      <td>0</td>\n",
       "      <td>active cognitive lifestyle potential neuroprotective factor huntington disease</td>\n",
       "    </tr>\n",
       "    <tr>\n",
       "      <th>1329</th>\n",
       "      <td>1</td>\n",
       "      <td>0.078276</td>\n",
       "      <td>0</td>\n",
       "      <td>painless adehesives</td>\n",
       "    </tr>\n",
       "    <tr>\n",
       "      <th>1274</th>\n",
       "      <td>1</td>\n",
       "      <td>0.448082</td>\n",
       "      <td>0</td>\n",
       "      <td>human sex reversal caused duplication deletion core enhancers upstream sox</td>\n",
       "    </tr>\n",
       "    <tr>\n",
       "      <th>1264</th>\n",
       "      <td>1</td>\n",
       "      <td>0.123501</td>\n",
       "      <td>0</td>\n",
       "      <td>chromatin loop extrusion chromatin unknotting</td>\n",
       "    </tr>\n",
       "  </tbody>\n",
       "</table>\n",
       "</div>"
      ],
      "text/plain": [
       "      true_science_post  predict_proba  predictions  \\\n",
       "1338  1                  0.197532       0             \n",
       "534   1                  0.408786       0             \n",
       "760   1                  0.137316       0             \n",
       "1291  1                  0.387267       0             \n",
       "1143  1                  0.408786       0             \n",
       "1289  1                  0.419122       0             \n",
       "1333  1                  0.474157       0             \n",
       "151   1                  0.137316       0             \n",
       "2073  0                  0.562806       1             \n",
       "1311  1                  0.297073       0             \n",
       "1281  1                  0.110851       0             \n",
       "1290  1                  0.479111       0             \n",
       "1329  1                  0.078276       0             \n",
       "1274  1                  0.448082       0             \n",
       "1264  1                  0.123501       0             \n",
       "\n",
       "                                                                                                  post  \n",
       "1338  repeatedly watching video touching filthy bedpan reduced people ocd symptoms                      \n",
       "534   freeze dried polio vaccine require refrigeration offered full protection polio virus tested mice  \n",
       "760   dietary versatility early pleistocene hominins                                                    \n",
       "1291  university leeds news young star caught forming like planet                                       \n",
       "1143  freeze dried polio vaccine require refrigeration offered full protection polio virus tested mice  \n",
       "1289  pathogenic copy number variants affect gene expression contribute genomic burden cerebral palsy   \n",
       "1333  tourists may making antarctica penguins sick                                                      \n",
       "151   dietary versatility early pleistocene hominins                                                    \n",
       "2073  cannot unsee snake space space odyssey                                                            \n",
       "1311  modern humans round heads                                                                         \n",
       "1281  genetically modified pigs protected classical swine fever virus                                   \n",
       "1290  active cognitive lifestyle potential neuroprotective factor huntington disease                    \n",
       "1329  painless adehesives                                                                               \n",
       "1274  human sex reversal caused duplication deletion core enhancers upstream sox                        \n",
       "1264  chromatin loop extrusion chromatin unknotting                                                     "
      ]
     },
     "execution_count": 34,
     "metadata": {},
     "output_type": "execute_result"
    }
   ],
   "source": [
    "wrong_preds = preds_df[preds_df['y_test'] != preds_df['predictions']]\n",
    "wrong_preds = wrong_preds.copy()\n",
    "wrong_preds.drop([1969, 1606], inplace=True)\n",
    "wrong_preds.rename(columns={'y_test': 'true_science_post', 'predict_probab': 'probability'},\n",
    "                  inplace=True)\n",
    "wrong_preds"
   ]
  },
  {
   "cell_type": "markdown",
   "metadata": {},
   "source": [
    "# Plot the predicted probabilities with a histogram\n",
    "You can see that it didn't have a hard time distinguishing most of the posts due to most of the probabilities being very close to 1 or 0."
   ]
  },
  {
   "cell_type": "code",
   "execution_count": 35,
   "metadata": {},
   "outputs": [
    {
     "data": {
      "image/png": "[encoded data removed]",
      "text/plain": [
       "<Figure size 720x720 with 1 Axes>"
      ]
     },
     "metadata": {
      "needs_background": "light"
     },
     "output_type": "display_data"
    }
   ],
   "source": [
    "plt.figure(figsize=(10, 10))\n",
    "plt.hist(preds_df['predict_proba'], bins=8)\n",
    "plt.xlim(0, 1)\n",
    "plt.xticks(fontsize=15)\n",
    "plt.title('Logistic Regression', fontsize=20)\n",
    "plt.yticks(fontsize=15)\n",
    "plt.ylabel('Frequency', fontsize=20)\n",
    "plt.xlabel('Predicted Probability of a Science Post', fontsize=20);"
   ]
  },
  {
   "cell_type": "markdown",
   "metadata": {},
   "source": [
    "# Import ROC Score to visualize the classification metrics"
   ]
  },
  {
   "cell_type": "code",
   "execution_count": 36,
   "metadata": {},
   "outputs": [],
   "source": [
    "from sklearn.metrics import roc_auc_score, roc_curve"
   ]
  },
  {
   "cell_type": "code",
   "execution_count": 37,
   "metadata": {},
   "outputs": [
    {
     "data": {
      "image/png": "[encoded data removed]",
      "text/plain": [
       "<Figure size 720x720 with 1 Axes>"
      ]
     },
     "metadata": {
      "needs_background": "light"
     },
     "output_type": "display_data"
    }
   ],
   "source": [
    "fpr, tpr, thresholds = roc_curve(preds_df['y_test'], preds_df['predict_proba'])\n",
    "plt.figure(figsize=(10, 10))\n",
    "plt.plot(fpr, tpr)\n",
    "plt.xlim(0.0, 1.0)\n",
    "plt.ylim(0.0, 1.0)\n",
    "plt.title('Logistic Regression ROC Curve', fontsize=20)\n",
    "plt.xlabel('False Positive Rate', fontsize=15)\n",
    "plt.ylabel('True Positive Rate', fontsize=15)\n",
    "plt.grid = True;"
   ]
  },
  {
   "cell_type": "code",
   "execution_count": 38,
   "metadata": {},
   "outputs": [
    {
     "name": "stdout",
     "output_type": "stream",
     "text": [
      "0.9971683227096613\n"
     ]
    }
   ],
   "source": [
    "print(roc_auc_score(preds_df['y_test'], preds_df['predict_proba']))"
   ]
  },
  {
   "cell_type": "markdown",
   "metadata": {},
   "source": [
    "# Repeating the process above but with Random Forest model"
   ]
  },
  {
   "cell_type": "code",
   "execution_count": 39,
   "metadata": {},
   "outputs": [],
   "source": [
    "vect_2 = TfidfVectorizer(max_features=6000, max_df=.2)\n",
    "rf = RandomForestClassifier(max_depth=180, min_samples_split=3,\n",
    "                            n_estimators=100, random_state=42)"
   ]
  },
  {
   "cell_type": "code",
   "execution_count": 40,
   "metadata": {},
   "outputs": [],
   "source": [
    "X_train_vect_2 = pd.DataFrame(vect_2.fit_transform(X_train).todense(),\n",
    "                           columns=vect_2.get_feature_names())\n",
    "\n",
    "X_test_vect_2 = pd.DataFrame(vect_2.transform(X_test).todense(),\n",
    "                          columns=vect_2.get_feature_names())"
   ]
  },
  {
   "cell_type": "code",
   "execution_count": 41,
   "metadata": {},
   "outputs": [],
   "source": [
    "model_2 = rf.fit(X_train_vect_2, y_train)\n",
    "predictions_2 = model_2.predict(X_test_vect_2)"
   ]
  },
  {
   "cell_type": "code",
   "execution_count": 42,
   "metadata": {},
   "outputs": [],
   "source": [
    "probs_2 = model_2.predict_proba(X_test_vect_2)"
   ]
  },
  {
   "cell_type": "code",
   "execution_count": 43,
   "metadata": {},
   "outputs": [],
   "source": [
    "preds_2_df = pd.DataFrame.from_dict({'y_test':y_test,\n",
    "                                   'predict_proba': probs[:, 1],\n",
    "                                   'predictions': predictions_2,\n",
    "                                   'posts': X_test.loc[y_test.index]},\n",
    "                                    orient='columns')"
   ]
  },
  {
   "cell_type": "code",
   "execution_count": 44,
   "metadata": {},
   "outputs": [
    {
     "data": {
      "image/png": "[encoded data removed]",
      "text/plain": [
       "<Figure size 720x720 with 1 Axes>"
      ]
     },
     "metadata": {
      "needs_background": "light"
     },
     "output_type": "display_data"
    }
   ],
   "source": [
    "plt.figure(figsize=(10, 10))\n",
    "plt.hist(preds_df['predict_proba'], bins=8)\n",
    "plt.xlim(0, 1)\n",
    "plt.title('Random Forest', fontsize=20)\n",
    "plt.xticks(fontsize=15)\n",
    "plt.yticks(fontsize=15)\n",
    "plt.ylabel('Frequency', fontsize=20)\n",
    "plt.xlabel('Predicted Probability of a Science Post', fontsize=20);"
   ]
  },
  {
   "cell_type": "code",
   "execution_count": 45,
   "metadata": {},
   "outputs": [
    {
     "data": {
      "image/png": "[encoded data removed]",
      "text/plain": [
       "<Figure size 720x720 with 1 Axes>"
      ]
     },
     "metadata": {
      "needs_background": "light"
     },
     "output_type": "display_data"
    }
   ],
   "source": [
    "fpr, tpr, thresholds = roc_curve(preds_df['y_test'], preds_df['predict_proba'])\n",
    "plt.figure(figsize=(10, 10))\n",
    "plt.plot(fpr, tpr)\n",
    "plt.xlim(0.0, 1.0)\n",
    "plt.ylim(0.0, 1.0)\n",
    "plt.title('ROC Curve', fontsize=20)\n",
    "plt.xlabel('False Positive Rate', fontsize=15)\n",
    "plt.ylabel('True Positive Rate', fontsize=15)\n",
    "plt.grid = True;"
   ]
  },
  {
   "cell_type": "code",
   "execution_count": null,
   "metadata": {},
   "outputs": [],
   "source": []
  },
  {
   "cell_type": "code",
   "execution_count": null,
   "metadata": {},
   "outputs": [],
   "source": []
  }
 ],
 "metadata": {
  "kernelspec": {
   "display_name": "Python 3",
   "language": "python",
   "name": "python3"
  },
  "language_info": {
   "codemirror_mode": {
    "name": "ipython",
    "version": 3
   },
   "file_extension": ".py",
   "mimetype": "text/x-python",
   "name": "python",
   "nbconvert_exporter": "python",
   "pygments_lexer": "ipython3",
   "version": "3.6.8"
  }
 },
 "nbformat": 4,
 "nbformat_minor": 2
}
